{
  "nbformat": 4,
  "nbformat_minor": 0,
  "metadata": {
    "colab": {
      "provenance": []
    },
    "kernelspec": {
      "name": "python3",
      "display_name": "Python 3"
    },
    "language_info": {
      "name": "python"
    }
  },
  "cells": [
    {
      "cell_type": "code",
      "execution_count": null,
      "metadata": {
        "colab": {
          "base_uri": "https://localhost:8080/"
        },
        "id": "Eaeaun3swcvt",
        "outputId": "5acb3a3b-98a3-4a35-d11b-41433e75791c"
      },
      "outputs": [
        {
          "output_type": "stream",
          "name": "stdout",
          "text": [
            "<class 'pandas.core.frame.DataFrame'>\n",
            "RangeIndex: 16278 entries, 0 to 16277\n",
            "Data columns (total 2 columns):\n",
            " #   Column     Non-Null Count  Dtype \n",
            "---  ------     --------------  ----- \n",
            " 0   text_type  16278 non-null  object\n",
            " 1   text       16278 non-null  object\n",
            "dtypes: object(2)\n",
            "memory usage: 254.5+ KB\n"
          ]
        },
        {
          "output_type": "execute_result",
          "data": {
            "text/plain": [
              "(None,\n",
              "   text_type                                               text\n",
              " 0       ham  make sure alex knows his birthday is over in f...\n",
              " 1       ham  a resume for john lavorato thanks vince i will...\n",
              " 2      spam  plzz visit my website moviesgodml to get all m...\n",
              " 3      spam  urgent your mobile number has been awarded wit...\n",
              " 4       ham  overview of hr associates analyst project per ...,\n",
              "        text_type                                               text\n",
              " count      16278                                              16278\n",
              " unique         2                                              16267\n",
              " top          ham  SPAM ALERT  🚔  User:     Username: @DillyBubbl...\n",
              " freq       11469                                                  7)"
            ]
          },
          "metadata": {},
          "execution_count": 1
        }
      ],
      "source": [
        "import pandas as pd\n",
        "\n",
        "# Загрузка тренировочной выборки\n",
        "train_data_path = './train_spam.csv'\n",
        "train_data = pd.read_csv(train_data_path)\n",
        "\n",
        "# Основная информация о выборке\n",
        "train_info = train_data.info()\n",
        "train_head = train_data.head()\n",
        "train_describe = train_data.describe(include='all')\n",
        "\n",
        "train_info, train_head, train_describe"
      ]
    },
    {
      "cell_type": "markdown",
      "source": [
        "Тренировочная выборка содержит 16278 объектов и 2 столбца:\n",
        "\n",
        "text_type — целевая переменная, показывающая, является ли сообщение СПАМом или нет. Таргет имеет 2 уникальных значения: 'ham' (не СПАМ) и 'spam' (СПАМ).\n",
        "\n",
        "text — текст сообщения. Большая часть текстов уникальны (16267 из 16278). Пустых текстов нет."
      ],
      "metadata": {
        "id": "rkmKLE3lF8D-"
      }
    },
    {
      "cell_type": "code",
      "source": [
        "import matplotlib.pyplot as plt\n",
        "\n",
        "# Подсчет количества записей для каждого класса\n",
        "class_distribution = train_data['text_type'].value_counts()\n",
        "\n",
        "# Визуализация распределения классов\n",
        "plt.figure(figsize=(8, 5))\n",
        "class_distribution.plot(kind='bar', color=['skyblue', 'orange'])\n",
        "plt.title('Распределение классов в тренировочном датасете')\n",
        "plt.xlabel('Класс')\n",
        "plt.ylabel('Количество')\n",
        "plt.xticks(rotation=0)\n",
        "plt.grid(axis='y', linestyle='--', alpha=0.7)\n",
        "plt.show()\n",
        "\n",
        "class_distribution\n"
      ],
      "metadata": {
        "colab": {
          "base_uri": "https://localhost:8080/",
          "height": 501
        },
        "id": "7Hb_RaR6xDFV",
        "outputId": "375130f3-f37e-47a3-9174-b9204abd179b"
      },
      "execution_count": null,
      "outputs": [
        {
          "output_type": "display_data",
          "data": {
            "text/plain": [
              "<Figure size 800x500 with 1 Axes>"
            ],
            "image/png": "[encoded data removed]"
          },
          "metadata": {}
        },
        {
          "output_type": "execute_result",
          "data": {
            "text/plain": [
              "text_type\n",
              "ham     11469\n",
              "spam     4809\n",
              "Name: count, dtype: int64"
            ]
          },
          "metadata": {},
          "execution_count": 2
        }
      ]
    },
    {
      "cell_type": "markdown",
      "source": [
        "Выборка несбалансирована: сообщений 'ham' более чем в два раза больше, чем сообщений 'spam'. Для сохранения соотношения между классами при разбиении на тренировочную и валидационную выборки будет использована стратификация."
      ],
      "metadata": {
        "id": "aYRPoGnHH1aR"
      }
    },
    {
      "cell_type": "code",
      "source": [
        "import re\n",
        "from sklearn.model_selection import train_test_split\n",
        "from sklearn.feature_extraction.text import TfidfVectorizer\n",
        "\n",
        "def preprocess_text(text):\n",
        "    # Удаление специальных символов\n",
        "    text = re.sub(r'\\W+',' ', text)\n",
        "    # Приведение всех символов к нижнему регистру\n",
        "    text = text.lower()\n",
        "    return text\n",
        "\n",
        "# Применение функции предобработки ко всем текстам в выборке\n",
        "train_data['clean_text'] = train_data['text'].apply(preprocess_text)\n",
        "\n",
        "# Векторизация текстов с использованием TF-IDF\n",
        "tfidf_vectorizer = TfidfVectorizer()\n",
        "X = tfidf_vectorizer.fit_transform(train_data['clean_text'])\n",
        "y = train_data['text_type'].apply(lambda x: 1 if x == 'spam' else 0)\n",
        "\n",
        "# Разбиение данных на тренировочную и валидационную выборки\n",
        "X_train, X_val, y_train, y_val = train_test_split(X, y, test_size=0.2, random_state=42, stratify=y)\n",
        "\n",
        "# Вывод результатов предобработки\n",
        "train_data.head(), X_train.shape, X_val.shape\n"
      ],
      "metadata": {
        "colab": {
          "base_uri": "https://localhost:8080/"
        },
        "id": "N_mYrKWy0Qxb",
        "outputId": "581014d6-26b4-42e5-9987-52892fd022d6"
      },
      "execution_count": null,
      "outputs": [
        {
          "output_type": "execute_result",
          "data": {
            "text/plain": [
              "(  text_type                                               text  \\\n",
              " 0       ham  make sure alex knows his birthday is over in f...   \n",
              " 1       ham  a resume for john lavorato thanks vince i will...   \n",
              " 2      spam  plzz visit my website moviesgodml to get all m...   \n",
              " 3      spam  urgent your mobile number has been awarded wit...   \n",
              " 4       ham  overview of hr associates analyst project per ...   \n",
              " \n",
              "                                           clean_text  \n",
              " 0  make sure alex knows his birthday is over in f...  \n",
              " 1  a resume for john lavorato thanks vince i will...  \n",
              " 2  plzz visit my website moviesgodml to get all m...  \n",
              " 3  urgent your mobile number has been awarded wit...  \n",
              " 4  overview of hr associates analyst project per ...  ,\n",
              " (13022, 53378),\n",
              " (3256, 53378))"
            ]
          },
          "metadata": {},
          "execution_count": 3
        }
      ]
    },
    {
      "cell_type": "code",
      "source": [
        "from sklearn.linear_model import LogisticRegression\n",
        "from sklearn.naive_bayes import MultinomialNB\n",
        "from sklearn.ensemble import RandomForestClassifier\n",
        "from sklearn.ensemble import GradientBoostingClassifier\n",
        "from sklearn.metrics import roc_auc_score\n",
        "\n",
        "\n",
        "# Создание моделей\n",
        "models = {\n",
        "    \"Logistic Regression\": LogisticRegression(max_iter=1000),\n",
        "    \"Naive Bayes\": MultinomialNB(),\n",
        "    \"Random Forest\": RandomForestClassifier(n_estimators=100),\n",
        "    \"Gradient Boosting\": GradientBoostingClassifier(n_estimators=100)\n",
        "}\n",
        "\n",
        "# Обучение моделей и оценка их производительности на валидационной выборке\n",
        "results = {}\n",
        "for name, model in models.items():\n",
        "    model.fit(X_train, y_train)  # Обучение модели\n",
        "    y_pred_proba = model.predict_proba(X_val)[:, 1]  # Расчет вероятностей для класса \"spam\"\n",
        "    auc_score = roc_auc_score(y_val, y_pred_proba)  # Расчет ROC-AUC\n",
        "    results[name] = auc_score\n",
        "\n",
        "results\n"
      ],
      "metadata": {
        "colab": {
          "base_uri": "https://localhost:8080/"
        },
        "id": "4IhwjLmR0chO",
        "outputId": "b83ba16b-1801-404b-b3c3-4655be083f88"
      },
      "execution_count": null,
      "outputs": [
        {
          "output_type": "execute_result",
          "data": {
            "text/plain": [
              "{'Logistic Regression': 0.9766483840154284,\n",
              " 'Naive Bayes': 0.9439145234698854,\n",
              " 'Random Forest': 0.9809418767570467,\n",
              " 'Gradient Boosting': 0.9479791809783091}"
            ]
          },
          "metadata": {},
          "execution_count": 4
        }
      ]
    },
    {
      "cell_type": "markdown",
      "source": [
        "Видно, что случайный лес показывает наилучшую предсказательную способность на целевой метрике ROC-AUC."
      ],
      "metadata": {
        "id": "ptTb7vCzOISf"
      }
    },
    {
      "cell_type": "code",
      "source": [
        "# Загрузка тестовой выборки\n",
        "test_data_path = './test_spam.csv'\n",
        "test_data = pd.read_csv(test_data_path)\n",
        "\n",
        "# Применение функции предобработки ко всем текстам в тестовой выборке\n",
        "test_data['clean_text'] = test_data['text'].apply(preprocess_text)\n",
        "\n",
        "# Векторизация текстов тестовой выборки с использованием того же TF-IDF векторизатора\n",
        "X_test = tfidf_vectorizer.transform(test_data['clean_text'])\n",
        "\n",
        "# Информация о тестовой выборке и размер векторизированных данных\n",
        "test_data.head(), X_test.shape\n"
      ],
      "metadata": {
        "colab": {
          "base_uri": "https://localhost:8080/"
        },
        "id": "2qt7yfVM5kKP",
        "outputId": "a0cabe8c-c3a0-4b30-9882-3cd80dce111d"
      },
      "execution_count": null,
      "outputs": [
        {
          "output_type": "execute_result",
          "data": {
            "text/plain": [
              "(                                                text  \\\n",
              " 0  j jim whitehead ejw cse ucsc edu writes j you ...   \n",
              " 1  original message from bitbitch magnesium net p...   \n",
              " 2  java for managers vince durasoft who just taug...   \n",
              " 3               there is a youtuber name saiman says   \n",
              " 4  underpriced issue with high return on equity t...   \n",
              " \n",
              "                                           clean_text  \n",
              " 0  j jim whitehead ejw cse ucsc edu writes j you ...  \n",
              " 1  original message from bitbitch magnesium net p...  \n",
              " 2  java for managers vince durasoft who just taug...  \n",
              " 3               there is a youtuber name saiman says  \n",
              " 4  underpriced issue with high return on equity t...  ,\n",
              " (4070, 53378))"
            ]
          },
          "metadata": {},
          "execution_count": 5
        }
      ]
    },
    {
      "cell_type": "code",
      "source": [
        "# Расчет вероятностей для тестовой выборки\n",
        "best_model = models[\"Random Forest\"]\n",
        "y_test_pred_proba = best_model.predict_proba(X_test)[:, 1]\n",
        "\n",
        "# Создание датафрейма с результатами\n",
        "results_df = pd.DataFrame({\n",
        "    'text': test_data['text'],\n",
        "    'score': y_test_pred_proba\n",
        "})\n",
        "\n",
        "# Сохранение результатов в CSV-файл\n",
        "results_path = './spam_predictions.csv'\n",
        "results_df.to_csv(results_path, index=False)\n",
        "\n",
        "results_df.head(), results_path\n"
      ],
      "metadata": {
        "colab": {
          "base_uri": "https://localhost:8080/"
        },
        "id": "UeVi0k3L6HM-",
        "outputId": "a8856a3b-f515-4bd2-83a6-9a6cd9fd31ab"
      },
      "execution_count": null,
      "outputs": [
        {
          "output_type": "execute_result",
          "data": {
            "text/plain": [
              "(                                                text     score\n",
              " 0  j jim whitehead ejw cse ucsc edu writes j you ...  0.130000\n",
              " 1  original message from bitbitch magnesium net p...  0.210000\n",
              " 2  java for managers vince durasoft who just taug...  0.020000\n",
              " 3               there is a youtuber name saiman says  0.010769\n",
              " 4  underpriced issue with high return on equity t...  0.700000,\n",
              " './spam_predictions.csv')"
            ]
          },
          "metadata": {},
          "execution_count": 6
        }
      ]
    }
  ]
}